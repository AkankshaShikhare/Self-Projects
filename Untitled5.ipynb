{
  "nbformat": 4,
  "nbformat_minor": 0,
  "metadata": {
    "colab": {
      "provenance": [],
      "authorship_tag": "ABX9TyPybk6BQWxO3k/GmPlYfI8s",
      "include_colab_link": true
    },
    "kernelspec": {
      "name": "python3",
      "display_name": "Python 3"
    },
    "language_info": {
      "name": "python"
    }
  },
  "cells": [
    {
      "cell_type": "markdown",
      "metadata": {
        "id": "view-in-github",
        "colab_type": "text"
      },
      "source": [
        "<a href=\"https://colab.research.google.com/github/AkankshaShikhare/Self-Projects/blob/main/Untitled5.ipynb\" target=\"_parent\"><img src=\"https://colab.research.google.com/assets/colab-badge.svg\" alt=\"Open In Colab\"/></a>"
      ]
    },
    {
      "cell_type": "code",
      "execution_count": 1,
      "metadata": {
        "id": "6HrZL2gPe8cT"
      },
      "outputs": [],
      "source": [
        "\n",
        "\n",
        "import numpy as np\n",
        "import pandas as pd\n",
        "\n",
        "import os\n",
        "for dirname, _, filenames in os.walk('/github/input'):\n",
        "    for filename in filenames:\n",
        "        print(os.path.join(dirname, filename))\n"
      ]
    },
    {
      "cell_type": "code",
      "source": [
        "data=pd.read_csv(\"../input/women-entrepreneurship-and-labor-force/Dataset3.csv\",sep=';')\n",
        "data.style.background_gradient(cmap='YlGnBu', low=0, high=0, axis=0, subset=None)"
      ],
      "metadata": {
        "id": "RtH068y-fBlo"
      },
      "execution_count": null,
      "outputs": []
    },
    {
      "cell_type": "code",
      "source": [
        "data.shape"
      ],
      "metadata": {
        "id": "YkPB-z_gfHie"
      },
      "execution_count": null,
      "outputs": []
    },
    {
      "cell_type": "code",
      "source": [
        "data.info()"
      ],
      "metadata": {
        "id": "ZbQ0HmMMfKWg"
      },
      "execution_count": null,
      "outputs": []
    },
    {
      "cell_type": "code",
      "source": [
        "data.isnull().sum()"
      ],
      "metadata": {
        "id": "4zXEVIdufSo6"
      },
      "execution_count": null,
      "outputs": []
    },
    {
      "cell_type": "code",
      "source": [
        "data_copy=data.copy()"
      ],
      "metadata": {
        "id": "Ytra9a_WfXEC"
      },
      "execution_count": null,
      "outputs": []
    },
    {
      "cell_type": "code",
      "source": [
        "category=[]\n",
        "for col in data_copy.columns:\n",
        "    if data[col].dtypes==object:\n",
        "        category.append(col)"
      ],
      "metadata": {
        "id": "7YnBvdnvfZnQ"
      },
      "execution_count": null,
      "outputs": []
    },
    {
      "cell_type": "code",
      "source": [
        "data_encode=pd.get_dummies(data_copy,category,dtype=np.uint8)"
      ],
      "metadata": {
        "id": "O9sp6VopfcCT"
      },
      "execution_count": null,
      "outputs": []
    },
    {
      "cell_type": "code",
      "source": [
        "data_encode.head()"
      ],
      "metadata": {
        "id": "_KYoDJFwfeah"
      },
      "execution_count": null,
      "outputs": []
    },
    {
      "cell_type": "code",
      "source": [
        "from scipy.stats import shapiro\n",
        "\n",
        "stat, p = shapiro(data_encode)\n",
        "print('stat=%.3f, p=%.3f' % (stat, p))\n",
        "if p > 0.05:\n",
        "    print('Probably Gaussian')\n",
        "else:\n",
        "    print('Probably not Gaussian')"
      ],
      "metadata": {
        "id": "btbvwdRTfhOd"
      },
      "execution_count": null,
      "outputs": []
    },
    {
      "cell_type": "code",
      "source": [
        "data.describe()"
      ],
      "metadata": {
        "id": "2B1M9WQQfjoG"
      },
      "execution_count": null,
      "outputs": []
    },
    {
      "cell_type": "code",
      "source": [
        "import seaborn as sns\n",
        "import matplotlib.pyplot as plt\n",
        "import plotly.express as px"
      ],
      "metadata": {
        "id": "yc74gtJ8flou"
      },
      "execution_count": null,
      "outputs": []
    },
    {
      "cell_type": "code",
      "source": [
        "fig,ax=plt.subplots(figsize=(12,8))\n",
        "sns.heatmap(data.corr(),annot=True)\n",
        "plt.show()"
      ],
      "metadata": {
        "id": "PEnmSL7mfouz"
      },
      "execution_count": null,
      "outputs": []
    },
    {
      "cell_type": "code",
      "source": [
        "data['Country'].nunique()"
      ],
      "metadata": {
        "id": "M9Bw90UVfrtM"
      },
      "execution_count": null,
      "outputs": []
    },
    {
      "cell_type": "code",
      "source": [
        "data['Level of development'].value_counts()"
      ],
      "metadata": {
        "id": "ChGURX_LfuLL"
      },
      "execution_count": null,
      "outputs": []
    },
    {
      "cell_type": "code",
      "source": [
        "fig = px.bar(data,\n",
        "        x = \"Level of development\",\n",
        "        y = \"Women Entrepreneurship Index\",\n",
        "        color_discrete_sequence=[\"magenta\"]\n",
        "\n",
        "    )\n",
        "\n",
        "fig.show()"
      ],
      "metadata": {
        "id": "lV9IEG1IfwyV"
      },
      "execution_count": null,
      "outputs": []
    },
    {
      "cell_type": "code",
      "source": [
        "fig = px.bar(data,\n",
        "        x = \"European Union Membership\",\n",
        "        y = \"Women Entrepreneurship Index\",\n",
        "        color_discrete_sequence=[\"red\"]\n",
        "\n",
        "    )\n",
        "\n",
        "fig.show()"
      ],
      "metadata": {
        "id": "7NyJNw7jfzuW"
      },
      "execution_count": null,
      "outputs": []
    },
    {
      "cell_type": "code",
      "source": [
        "import plotly.graph_objects as go\n",
        "country_fig = go.Figure(data=[go.Pie(labels=data['Country'],\n",
        "                             values=data['Women Entrepreneurship Index'],\n",
        "                             hole=.7,\n",
        "                             title = 'Count by Country',\n",
        "                             marker_colors = px.colors.sequential.Greens_r,\n",
        "                            )\n",
        "                     ])\n",
        "country_fig.update_layout(title = 'Women Enterpreneurship Index % by Country')\n",
        "country_fig.show()\n"
      ],
      "metadata": {
        "id": "erATJxvEf3HO"
      },
      "execution_count": null,
      "outputs": []
    },
    {
      "cell_type": "code",
      "source": [
        "import plotly.express as px\n",
        "\n",
        "fig = px.scatter(data, x=\"Female Labor Force Participation Rate\", y=\"Women Entrepreneurship Index\", color=\"Level of development\",\n",
        "                 size='Entrepreneurship Index', hover_data=['European Union Membership'])\n",
        "fig.show()"
      ],
      "metadata": {
        "id": "D_OvoZ9Vf6Qp"
      },
      "execution_count": null,
      "outputs": []
    },
    {
      "cell_type": "code",
      "source": [
        "fig = px.scatter(\n",
        "    data, x='Inflation rate', y='Women Entrepreneurship Index', opacity=0.65,\n",
        "    trendline='ols', trendline_color_override='darkblue'\n",
        ")\n",
        "fig.show()"
      ],
      "metadata": {
        "id": "2eVwlLbof8q-"
      },
      "execution_count": null,
      "outputs": []
    },
    {
      "cell_type": "code",
      "source": [
        "fig = px.violin(data, y=\"Women Entrepreneurship Index\", x=\"Currency\", color=\"Level of development\", box=True, points=\"all\",\n",
        "          hover_data=data.columns)\n",
        "fig.show()"
      ],
      "metadata": {
        "id": "7jRGcZEEf_If"
      },
      "execution_count": null,
      "outputs": []
    },
    {
      "cell_type": "code",
      "source": [
        "crosstab = pd.crosstab(data['European Union Membership'], data['Level of development'])\n",
        "\n",
        "crosstab.style.background_gradient(cmap='YlGnBu', low=0, high=0, axis=0, subset=None)"
      ],
      "metadata": {
        "id": "UwQEIZ6ngB0-"
      },
      "execution_count": null,
      "outputs": []
    },
    {
      "cell_type": "code",
      "source": [
        "from scipy import stats"
      ],
      "metadata": {
        "id": "Ah4P4DEggHLR"
      },
      "execution_count": null,
      "outputs": []
    },
    {
      "cell_type": "code",
      "source": [
        "stats.chi2_contingency(crosstab)"
      ],
      "metadata": {
        "colab": {
          "base_uri": "https://localhost:8080/",
          "height": 181
        },
        "id": "mVQcEqncgJVv",
        "outputId": "56b7a29e-e3c1-4df1-dfef-d9691b1f7deb"
      },
      "execution_count": 2,
      "outputs": [
        {
          "output_type": "error",
          "ename": "NameError",
          "evalue": "ignored",
          "traceback": [
            "\u001b[0;31m---------------------------------------------------------------------------\u001b[0m",
            "\u001b[0;31mNameError\u001b[0m                                 Traceback (most recent call last)",
            "\u001b[0;32m<ipython-input-2-e8fdcba4cd31>\u001b[0m in \u001b[0;36m<cell line: 1>\u001b[0;34m()\u001b[0m\n\u001b[0;32m----> 1\u001b[0;31m \u001b[0mstats\u001b[0m\u001b[0;34m.\u001b[0m\u001b[0mchi2_contingency\u001b[0m\u001b[0;34m(\u001b[0m\u001b[0mcrosstab\u001b[0m\u001b[0;34m)\u001b[0m\u001b[0;34m\u001b[0m\u001b[0;34m\u001b[0m\u001b[0m\n\u001b[0m",
            "\u001b[0;31mNameError\u001b[0m: name 'stats' is not defined"
          ]
        }
      ]
    },
    {
      "cell_type": "code",
      "source": [
        "data_eu=data[data['European Union Membership']=='Member']\n",
        "data_not_eu=data[data['European Union Membership']=='Not Member']"
      ],
      "metadata": {
        "id": "QSiV9Nq-hB92"
      },
      "execution_count": null,
      "outputs": []
    },
    {
      "cell_type": "code",
      "source": [
        "def mann_whitney_u_test(distribution_1, distribution_2):\n",
        "    \"\"\"\n",
        "    Perform the Mann-Whitney U Test, comparing two different distributions.\n",
        "    Args:\n",
        "       distribution_1: List.\n",
        "       distribution_2: List.\n",
        "    Outputs:\n",
        "        u_statistic: Float. U statisitic for the test.\n",
        "        p_value: Float.\n",
        "    \"\"\"\n",
        "    u_statistic, p_value = stats.mannwhitneyu(distribution_1, distribution_2)\n",
        "    return u_statistic, p_value\n",
        "\n",
        "\n",
        "#### MAIN FUNCTION ####\n",
        "#Perform the Mann-Whitney U Test on the two distributions\n",
        "mann_whitney_u_test(list(data_eu['Women Entrepreneurship Index']), list(data_not_eu['Women Entrepreneurship Index']))"
      ],
      "metadata": {
        "id": "uttNqzm5hEEE"
      },
      "execution_count": null,
      "outputs": []
    },
    {
      "cell_type": "code",
      "source": [
        "mann_whitney_u_test(list(data_eu['Entrepreneurship Index']), list(data_not_eu['Entrepreneurship Index']))"
      ],
      "metadata": {
        "id": "LCQ2vg2Yg9Rx"
      },
      "execution_count": null,
      "outputs": []
    },
    {
      "cell_type": "code",
      "source": [
        "data[['Women Entrepreneurship Index','Entrepreneurship Index']].corr(method='spearman').iloc[0,1]"
      ],
      "metadata": {
        "id": "O7tjvTuhhRY8"
      },
      "execution_count": null,
      "outputs": []
    }
  ]
}